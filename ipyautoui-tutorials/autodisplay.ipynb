{
 "cells": [
  {
   "cell_type": "markdown",
   "id": "5119f197-19da-488e-a15f-5c478f55cbef",
   "metadata": {},
   "source": [
    "# AutoDisplay"
   ]
  },
  {
   "cell_type": "markdown",
   "id": "03047eb4-67ea-4453-b08b-44296528c8f4",
   "metadata": {},
   "source": [
    "## Render a list of files"
   ]
  },
  {
   "cell_type": "code",
   "execution_count": 1,
   "id": "d1307a87-a12c-4f53-8c31-e383eca373e3",
   "metadata": {},
   "outputs": [
    {
     "data": {
      "application/vnd.jupyter.widget-view+json": {
       "model_id": "ceab4615db304f0ab4d82e788421d2bb",
       "version_major": 2,
       "version_minor": 0
      },
      "text/plain": [
       "VBox(children=(VBox(children=(HBox(), HBox())), VBox(children=(DisplayObject(children=(HBox(children=(Valid(va…"
      ]
     },
     "metadata": {},
     "output_type": "display_data"
    }
   ],
   "source": [
    "import pathlib\n",
    "from ipyautoui.test_schema import TestAutoLogic\n",
    "from ipyautoui import AutoUi, AutoDisplay\n",
    "from ipyautoui.constants import load_test_constants\n",
    "from IPython.display import display\n",
    "\n",
    "tests_constants = load_test_constants()\n",
    "DIR_FILETYPES = load_test_constants().DIR_FILETYPES\n",
    "paths = list(pathlib.Path(DIR_FILETYPES).glob(\"*.*\"))\n",
    "ad = AutoDisplay.from_paths(\n",
    "    paths, newroot=pathlib.PureWindowsPath(\"C:/\"), display_showhide=False\n",
    ")\n",
    "display(ad)"
   ]
  },
  {
   "cell_type": "markdown",
   "id": "20380660-7a99-42d1-b31a-25f0e0a87401",
   "metadata": {},
   "source": [
    "## Create a custom renderer"
   ]
  },
  {
   "cell_type": "code",
   "execution_count": 2,
   "id": "7b833bf5-5c24-4e38-8d2e-393558dde75e",
   "metadata": {},
   "outputs": [
    {
     "data": {
      "application/vnd.jupyter.widget-view+json": {
       "model_id": "372cf3a2f29b48c382832bf0774e95d9",
       "version_major": 2,
       "version_minor": 0
      },
      "text/plain": [
       "VBox(children=(VBox(children=(HBox(), HBox())), VBox(children=(DisplayObject(children=(HBox(children=(Valid(va…"
      ]
     },
     "metadata": {},
     "output_type": "display_data"
    }
   ],
   "source": [
    "\n",
    "from ipyautoui.test_schema import TestAutoLogic\n",
    "\n",
    "user_file_renderers = AutoUi.create_autodisplay_map(\n",
    "    ext=\".aui.json\", schema=TestAutoLogic\n",
    ")\n",
    "\n",
    "test_ui = AutoDisplay.from_paths(\n",
    "    paths=[tests_constants.PATH_TEST_AUI],\n",
    "    file_renderers=user_file_renderers,\n",
    "    display_showhide=False,\n",
    ")\n",
    "\n",
    "display(test_ui)\n"
   ]
  }
 ],
 "metadata": {
  "kernelspec": {
   "display_name": "Python 3 (ipykernel)",
   "language": "python",
   "name": "python3"
  },
  "language_info": {
   "codemirror_mode": {
    "name": "ipython",
    "version": 3
   },
   "file_extension": ".py",
   "mimetype": "text/x-python",
   "name": "python",
   "nbconvert_exporter": "python",
   "pygments_lexer": "ipython3",
   "version": "3.9.7"
  },
  "vscode": {
   "interpreter": {
    "hash": "8ada13db5691318db95c45469f21e1a7752ab0a7ab2e35f607cb2aeb67fe81be"
   }
  }
 },
 "nbformat": 4,
 "nbformat_minor": 5
}
