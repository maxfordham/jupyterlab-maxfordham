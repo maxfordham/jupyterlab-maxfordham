{
 "cells": [
  {
   "cell_type": "markdown",
   "id": "5119f197-19da-488e-a15f-5c478f55cbef",
   "metadata": {},
   "source": [
    "# AutoDisplay"
   ]
  },
  {
   "cell_type": "markdown",
   "id": "03047eb4-67ea-4453-b08b-44296528c8f4",
   "metadata": {},
   "source": [
    "## Render a list of files"
   ]
  },
  {
   "cell_type": "code",
   "execution_count": 1,
   "id": "d1307a87-a12c-4f53-8c31-e383eca373e3",
   "metadata": {},
   "outputs": [
    {
     "ename": "FileNotFoundError",
     "evalue": "[Errno 2] No such file or directory: '/home/jovyan/mambaforge/envs/jupyterlab-maxfordham/lib/python3.9/tests/constants.py'",
     "output_type": "error",
     "traceback": [
      "\u001b[0;31m---------------------------------------------------------------------------\u001b[0m",
      "\u001b[0;31mFileNotFoundError\u001b[0m                         Traceback (most recent call last)",
      "Cell \u001b[0;32mIn [1], line 7\u001b[0m\n\u001b[1;32m      4\u001b[0m \u001b[38;5;28;01mfrom\u001b[39;00m \u001b[38;5;21;01mipyautoui\u001b[39;00m\u001b[38;5;21;01m.\u001b[39;00m\u001b[38;5;21;01mconstants\u001b[39;00m \u001b[38;5;28;01mimport\u001b[39;00m load_test_constants\n\u001b[1;32m      5\u001b[0m \u001b[38;5;28;01mfrom\u001b[39;00m \u001b[38;5;21;01mIPython\u001b[39;00m\u001b[38;5;21;01m.\u001b[39;00m\u001b[38;5;21;01mdisplay\u001b[39;00m \u001b[38;5;28;01mimport\u001b[39;00m display\n\u001b[0;32m----> 7\u001b[0m tests_constants \u001b[38;5;241m=\u001b[39m \u001b[43mload_test_constants\u001b[49m\u001b[43m(\u001b[49m\u001b[43m)\u001b[49m\n\u001b[1;32m      8\u001b[0m DIR_FILETYPES \u001b[38;5;241m=\u001b[39m load_test_constants()\u001b[38;5;241m.\u001b[39mDIR_FILETYPES\n\u001b[1;32m      9\u001b[0m paths \u001b[38;5;241m=\u001b[39m \u001b[38;5;28mlist\u001b[39m(pathlib\u001b[38;5;241m.\u001b[39mPath(DIR_FILETYPES)\u001b[38;5;241m.\u001b[39mglob(\u001b[38;5;124m\"\u001b[39m\u001b[38;5;124m*.*\u001b[39m\u001b[38;5;124m\"\u001b[39m))\n",
      "File \u001b[0;32m~/mambaforge/envs/jupyterlab-maxfordham/lib/python3.9/site-packages/ipyautoui/constants.py:175\u001b[0m, in \u001b[0;36mload_test_constants\u001b[0;34m()\u001b[0m\n\u001b[1;32m    172\u001b[0m \u001b[38;5;28;01mfrom\u001b[39;00m \u001b[38;5;21;01mimportlib\u001b[39;00m\u001b[38;5;21;01m.\u001b[39;00m\u001b[38;5;21;01mmachinery\u001b[39;00m \u001b[38;5;28;01mimport\u001b[39;00m SourceFileLoader\n\u001b[1;32m    174\u001b[0m path_testing_constants \u001b[38;5;241m=\u001b[39m DIR_MODULE\u001b[38;5;241m.\u001b[39mparents[\u001b[38;5;241m1\u001b[39m] \u001b[38;5;241m/\u001b[39m \u001b[38;5;124m\"\u001b[39m\u001b[38;5;124mtests\u001b[39m\u001b[38;5;124m\"\u001b[39m \u001b[38;5;241m/\u001b[39m \u001b[38;5;124m\"\u001b[39m\u001b[38;5;124mconstants.py\u001b[39m\u001b[38;5;124m\"\u001b[39m\n\u001b[0;32m--> 175\u001b[0m test_constants \u001b[38;5;241m=\u001b[39m \u001b[43mSourceFileLoader\u001b[49m\u001b[43m(\u001b[49m\n\u001b[1;32m    176\u001b[0m \u001b[43m    \u001b[49m\u001b[38;5;124;43m\"\u001b[39;49m\u001b[38;5;124;43mconstants\u001b[39;49m\u001b[38;5;124;43m\"\u001b[39;49m\u001b[43m,\u001b[49m\u001b[43m \u001b[49m\u001b[38;5;28;43mstr\u001b[39;49m\u001b[43m(\u001b[49m\u001b[43mpath_testing_constants\u001b[49m\u001b[43m)\u001b[49m\n\u001b[1;32m    177\u001b[0m \u001b[43m\u001b[49m\u001b[43m)\u001b[49m\u001b[38;5;241;43m.\u001b[39;49m\u001b[43mload_module\u001b[49m\u001b[43m(\u001b[49m\u001b[43m)\u001b[49m\n\u001b[1;32m    178\u001b[0m \u001b[38;5;28;01mreturn\u001b[39;00m test_constants\n",
      "File \u001b[0;32m<frozen importlib._bootstrap_external>:529\u001b[0m, in \u001b[0;36m_check_name_wrapper\u001b[0;34m(self, name, *args, **kwargs)\u001b[0m\n",
      "File \u001b[0;32m<frozen importlib._bootstrap_external>:1029\u001b[0m, in \u001b[0;36mload_module\u001b[0;34m(self, fullname)\u001b[0m\n",
      "File \u001b[0;32m<frozen importlib._bootstrap_external>:854\u001b[0m, in \u001b[0;36mload_module\u001b[0;34m(self, fullname)\u001b[0m\n",
      "File \u001b[0;32m<frozen importlib._bootstrap>:274\u001b[0m, in \u001b[0;36m_load_module_shim\u001b[0;34m(self, fullname)\u001b[0m\n",
      "File \u001b[0;32m<frozen importlib._bootstrap>:711\u001b[0m, in \u001b[0;36m_load\u001b[0;34m(spec)\u001b[0m\n",
      "File \u001b[0;32m<frozen importlib._bootstrap>:680\u001b[0m, in \u001b[0;36m_load_unlocked\u001b[0;34m(spec)\u001b[0m\n",
      "File \u001b[0;32m<frozen importlib._bootstrap_external>:846\u001b[0m, in \u001b[0;36mexec_module\u001b[0;34m(self, module)\u001b[0m\n",
      "File \u001b[0;32m<frozen importlib._bootstrap_external>:982\u001b[0m, in \u001b[0;36mget_code\u001b[0;34m(self, fullname)\u001b[0m\n",
      "File \u001b[0;32m<frozen importlib._bootstrap_external>:1039\u001b[0m, in \u001b[0;36mget_data\u001b[0;34m(self, path)\u001b[0m\n",
      "\u001b[0;31mFileNotFoundError\u001b[0m: [Errno 2] No such file or directory: '/home/jovyan/mambaforge/envs/jupyterlab-maxfordham/lib/python3.9/tests/constants.py'"
     ]
    }
   ],
   "source": [
    "import pathlib\n",
    "from ipyautoui.test_schema import TestAutoLogic\n",
    "from ipyautoui import AutoUi, AutoDisplay\n",
    "from ipyautoui.constants import load_test_constants\n",
    "from IPython.display import display\n",
    "\n",
    "tests_constants = load_test_constants()\n",
    "DIR_FILETYPES = load_test_constants().DIR_FILETYPES\n",
    "paths = list(pathlib.Path(DIR_FILETYPES).glob(\"*.*\"))\n",
    "ad = AutoDisplay.from_paths(\n",
    "    paths, newroot=pathlib.PureWindowsPath(\"C:/\"), display_showhide=False\n",
    ")\n",
    "display(ad)"
   ]
  },
  {
   "cell_type": "markdown",
   "id": "20380660-7a99-42d1-b31a-25f0e0a87401",
   "metadata": {},
   "source": [
    "## Create a custom renderer"
   ]
  },
  {
   "cell_type": "code",
   "execution_count": 2,
   "id": "7b833bf5-5c24-4e38-8d2e-393558dde75e",
   "metadata": {},
   "outputs": [
    {
     "data": {
      "application/vnd.jupyter.widget-view+json": {
       "model_id": "372cf3a2f29b48c382832bf0774e95d9",
       "version_major": 2,
       "version_minor": 0
      },
      "text/plain": [
       "VBox(children=(VBox(children=(HBox(), HBox())), VBox(children=(DisplayObject(children=(HBox(children=(Valid(va…"
      ]
     },
     "metadata": {},
     "output_type": "display_data"
    }
   ],
   "source": [
    "\n",
    "from ipyautoui.test_schema import TestAutoLogic\n",
    "\n",
    "user_file_renderers = AutoUi.create_autodisplay_map(\n",
    "    ext=\".aui.json\", schema=TestAutoLogic\n",
    ")\n",
    "\n",
    "test_ui = AutoDisplay.from_paths(\n",
    "    paths=[tests_constants.PATH_TEST_AUI],\n",
    "    file_renderers=user_file_renderers,\n",
    "    display_showhide=False,\n",
    ")\n",
    "\n",
    "display(test_ui)\n"
   ]
  }
 ],
 "metadata": {
  "kernelspec": {
   "display_name": "Python 3 (ipykernel)",
   "language": "python",
   "name": "python3"
  },
  "language_info": {
   "codemirror_mode": {
    "name": "ipython",
    "version": 3
   },
   "file_extension": ".py",
   "mimetype": "text/x-python",
   "name": "python",
   "nbconvert_exporter": "python",
   "pygments_lexer": "ipython3",
   "version": "3.9.15"
  },
  "vscode": {
   "interpreter": {
    "hash": "8ada13db5691318db95c45469f21e1a7752ab0a7ab2e35f607cb2aeb67fe81be"
   }
  }
 },
 "nbformat": 4,
 "nbformat_minor": 5
}
