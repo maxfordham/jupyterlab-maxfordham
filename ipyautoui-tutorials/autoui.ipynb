{
 "cells": [
  {
   "cell_type": "code",
   "execution_count": 1,
   "id": "7ba8c00d",
   "metadata": {
    "tags": [
     "hide-input"
    ]
   },
   "outputs": [],
   "source": [
    "%load_ext lab_black"
   ]
  },
  {
   "cell_type": "markdown",
   "id": "ecc7e43a",
   "metadata": {
    "tags": []
   },
   "source": [
    "# AutoUi"
   ]
  },
  {
   "cell_type": "markdown",
   "id": "aa67ab0e",
   "metadata": {},
   "source": [
    "With ipyautoui we can create ipywidgets from either a **json-schema** or a **pydantic model**. This makes it quick and easy to whip up a user interface when required."
   ]
  },
  {
   "cell_type": "code",
   "execution_count": 2,
   "id": "c8630081",
   "metadata": {},
   "outputs": [
    {
     "name": "stdout",
     "output_type": "stream",
     "text": [
      "\n",
      "ipyautoui is used to quickly and efficiently create ipywidgets from pydantic schema.\n",
      "\n",
      "The module has the capability to take a pydantic schema and create a ipywidget from that schema.\n",
      "The main features being that you can produce a widget from many field types and also save the\n",
      "data as a JSON easily.\n",
      "\n",
      "ipyautoui is designed to be extensible. \n",
      "all widgets, as a minimum must satisfy the following criteria: \n",
      "- be initiated by the following keyword arguments (in addition to others as required):\n",
      "    - schema\n",
      "    - value\n",
      "- the schema must be a valid jsonschema and where possible use the terms defined in jsonschema\n",
      "\n",
      "Example::\n",
      "\n",
      "    from ipyautoui.constants import DISPLAY_AUTOUI_SCHEMA_EXAMPLE\n",
      "    DISPLAY_AUTOUI_SCHEMA_EXAMPLE()\n",
      "    \n",
      "\n"
     ]
    }
   ],
   "source": [
    "from ipyautoui import AutoUi\n",
    "import json\n",
    "from pydantic import BaseModel, Field\n",
    "from ipyautoui.constants import DIR_MODULE\n",
    "from ipyautoui._utils import display_pydantic_json\n",
    "import ipyautoui\n",
    "\n",
    "print(ipyautoui.__doc__)"
   ]
  },
  {
   "cell_type": "markdown",
   "id": "21a44310",
   "metadata": {},
   "source": [
    "### Creating Simple Widget"
   ]
  },
  {
   "cell_type": "markdown",
   "id": "89a3984e",
   "metadata": {},
   "source": [
    "So let's create a simple pydantic class. Here we have one text field."
   ]
  },
  {
   "cell_type": "code",
   "execution_count": 3,
   "id": "b0cb559e",
   "metadata": {},
   "outputs": [
    {
     "data": {
      "application/vnd.jupyter.widget-view+json": {
       "model_id": "f2971df2c3574478817961edb98e5d99",
       "version_major": 2,
       "version_minor": 0
      },
      "text/plain": [
       "AutoUi(children=(VBox(children=(HBox(), HBox(children=(ToggleButton(value=False, icon='code', layout=Layout(di…"
      ]
     },
     "metadata": {},
     "output_type": "display_data"
    }
   ],
   "source": [
    "# create a pydantic model (or a json-schema) defining the fields of interest\n",
    "class AutoUiExample(BaseModel):\n",
    "    text: str = Field(default=\"Test\", description=\"This description is very important\")\n",
    "\n",
    "\n",
    "data = {\"text\": \"this is a value\"}\n",
    "ui = AutoUi(schema=AutoUiExample, value=data)\n",
    "display(ui)"
   ]
  },
  {
   "cell_type": "code",
   "execution_count": 4,
   "id": "3e527b7d-d046-4087-93eb-c50437f74e55",
   "metadata": {},
   "outputs": [
    {
     "data": {
      "text/plain": [
       "{'title': 'AutoUiExample',\n",
       " 'type': 'object',\n",
       " 'properties': {'text': {'title': 'Text',\n",
       "   'description': 'This description is very important',\n",
       "   'default': 'Test',\n",
       "   'type': 'string'}}}"
      ]
     },
     "execution_count": 4,
     "metadata": {},
     "output_type": "execute_result"
    }
   ],
   "source": [
    "ui.schema"
   ]
  },
  {
   "cell_type": "markdown",
   "id": "9e97be5c",
   "metadata": {
    "tags": []
   },
   "source": [
    "### Writing to JSON"
   ]
  },
  {
   "cell_type": "markdown",
   "id": "c6d93fb4",
   "metadata": {},
   "source": [
    "Let's define the save location."
   ]
  },
  {
   "cell_type": "code",
   "execution_count": 5,
   "id": "ce2e69e0",
   "metadata": {},
   "outputs": [
    {
     "name": "stdout",
     "output_type": "stream",
     "text": [
      "Save Location is: test.simpleaui.json\n"
     ]
    }
   ],
   "source": [
    "import pathlib\n",
    "\n",
    "save_path = pathlib.Path(\".\") / \"test.simpleaui.json\"\n",
    "print(f\"Save Location is: {save_path}\")"
   ]
  },
  {
   "cell_type": "code",
   "execution_count": 6,
   "id": "b4c3a453",
   "metadata": {},
   "outputs": [
    {
     "data": {
      "application/vnd.jupyter.widget-view+json": {
       "model_id": "ae98a5fbe1a2463990398bce5b48f940",
       "version_major": 2,
       "version_minor": 0
      },
      "text/plain": [
       "AutoRenderer(children=(VBox(children=(HBox(children=(SaveButtonBar(children=(ToggleButton(value=False, button_…"
      ]
     },
     "metadata": {},
     "output_type": "display_data"
    }
   ],
   "source": [
    "ui.file(path=save_path)\n",
    "AutoUiRenderer = AutoUi.create_autoui_renderer(\n",
    "    schema=AutoUiExample, fn_onsave=lambda: print(\"done\")\n",
    ")\n",
    "ui_simple = AutoUiRenderer(path=save_path)\n",
    "display(ui_simple)"
   ]
  },
  {
   "cell_type": "code",
   "execution_count": 7,
   "id": "9654668d-96f3-481c-b209-19e91b0316a8",
   "metadata": {},
   "outputs": [],
   "source": [
    "import ipywidgets as widgets\n",
    "\n",
    "ui_simple.autowidget.insert_rows = {0: widgets.Button()}"
   ]
  },
  {
   "cell_type": "markdown",
   "id": "925bb996",
   "metadata": {},
   "source": [
    "### A more Complex Example Model"
   ]
  },
  {
   "cell_type": "markdown",
   "id": "a59a323d",
   "metadata": {},
   "source": [
    "AutoUiRenderer TestAutoLogicLet's look at a complete pydantic model producing all of the possible widgets. \n",
    "within `import ipyautoui.test_schema` there is a class called `TestAutoLogic` that outlines what is possible. \n",
    "Explore the python file below."
   ]
  },
  {
   "cell_type": "code",
   "execution_count": 8,
   "id": "4bd596a2",
   "metadata": {},
   "outputs": [
    {
     "data": {
      "application/vnd.jupyter.widget-view+json": {
       "model_id": "48d4d8fcc79243db8f665fdf6acbb39f",
       "version_major": 2,
       "version_minor": 0
      },
      "text/plain": [
       "Tab(children=(AutoRenderer(children=(VBox(children=(HBox(children=(SaveButtonBar(children=(ToggleButton(value=…"
      ]
     },
     "metadata": {},
     "output_type": "display_data"
    }
   ],
   "source": [
    "from ipyautoui.test_schema import TestAutoLogic  # the schema shown in the file above\n",
    "import ipywidgets as widgets\n",
    "from ipyautoui._utils import display_python_module\n",
    "from IPython.display import Markdown\n",
    "\n",
    "DIR_EXAMPLE = pathlib.Path(\".\")\n",
    "\n",
    "save_path = DIR_EXAMPLE / \"test.complexaui.json\"\n",
    "TestAutoLogic().file(path=save_path)\n",
    "\n",
    "AutoUiRenderer = AutoUi.create_autoui_renderer(\n",
    "    schema=TestAutoLogic, fn_onsave=lambda: print(\"this isnt working\")\n",
    ")\n",
    "ui_complex = AutoUiRenderer(path=save_path)\n",
    "ui_complex.file(path=save_path)\n",
    "\n",
    "\n",
    "s_py = display_python_module(ipyautoui.test_schema, show=False, return_str=True)\n",
    "out_py = widgets.Output()\n",
    "with out_py:\n",
    "    display(Markdown(s_py))\n",
    "\n",
    "s_sch = f\"\"\"\n",
    "```json\n",
    "{json.dumps(TestAutoLogic.schema(), indent=4)}\n",
    "```\n",
    "\"\"\"\n",
    "out_sch = widgets.Output()\n",
    "with out_sch:\n",
    "    display(Markdown(s_sch))\n",
    "\n",
    "\n",
    "s_js = f\"\"\"\n",
    "```json\n",
    "{json.dumps(ui_complex.value, indent=4)}\n",
    "```\n",
    "\"\"\"\n",
    "out_json = widgets.Output()\n",
    "with out_json:\n",
    "    display(Markdown(s_js))\n",
    "\n",
    "tab = widgets.Tab([ui_complex, out_py, out_sch, out_json])\n",
    "titles = {0: \"AutoUi\", 1: \"pydantic-model\", 2: \"jsonschema\", 3: \"autoui value\"}\n",
    "tab._titles = titles\n",
    "tab"
   ]
  },
  {
   "cell_type": "code",
   "execution_count": 9,
   "id": "ec3c6371-f28d-4299-b437-b687addfbad9",
   "metadata": {},
   "outputs": [],
   "source": [
    "class DataFrameCols(BaseModel):\n",
    "    string: str = Field(\"string\", aui_column_width=100)\n",
    "    integer: int = Field(1, aui_column_width=80)\n",
    "    floater: float = Field(3.1415, aui_column_width=70, aui_sig_fig=3)\n",
    "    something_else: float = Field(324, aui_column_width=100)"
   ]
  },
  {
   "cell_type": "code",
   "execution_count": 10,
   "id": "1d546f3e-1ce8-413e-96c5-50e3cfc3de49",
   "metadata": {},
   "outputs": [],
   "source": [
    "import typing\n",
    "\n",
    "\n",
    "class DataFrameCols(BaseModel):\n",
    "    string: str = Field(\"string\", aui_column_width=100)\n",
    "    integer: int = Field(1, aui_column_width=80)\n",
    "    floater: float = Field(3.1415, aui_column_width=70, aui_sig_fig=3)\n",
    "    something_else: float = Field(324, aui_column_width=100)\n",
    "\n",
    "\n",
    "class TestDataFrame(BaseModel):\n",
    "    \"\"\"a description of TestDataFrame\"\"\"\n",
    "\n",
    "    dataframe: typing.List[DataFrameCols] = Field(\n",
    "        default_factory=lambda: [], format=\"dataframe\"\n",
    "    )"
   ]
  },
  {
   "cell_type": "code",
   "execution_count": 11,
   "id": "01ff66c3-36e3-42b5-a0b1-942991b84b35",
   "metadata": {},
   "outputs": [
    {
     "data": {
      "application/vnd.jupyter.widget-view+json": {
       "model_id": "0d193403100c426b987eb26ed91eedd9",
       "version_major": 2,
       "version_minor": 0
      },
      "text/plain": [
       "AutoUi(children=(VBox(children=(HBox(), HBox(children=(ToggleButton(value=False, icon='code', layout=Layout(di…"
      ]
     },
     "metadata": {},
     "output_type": "display_data"
    }
   ],
   "source": [
    "auto_grid = AutoUi(schema=TestDataFrame)\n",
    "display(auto_grid)"
   ]
  },
  {
   "cell_type": "code",
   "execution_count": 12,
   "id": "213647db-a6ee-42e5-8afa-19a5336fe070",
   "metadata": {},
   "outputs": [],
   "source": [
    "auto_grid.value = {\n",
    "    \"dataframe\": [\n",
    "        {\n",
    "            \"string\": \"important string\",\n",
    "            \"integer\": 1,\n",
    "            \"floater\": 3.14,\n",
    "            \"something_else\": 324,\n",
    "        },\n",
    "        {\"string\": \"update\", \"integer\": 4, \"floater\": 3.12344, \"something_else\": 123},\n",
    "        {\"string\": \"evening\", \"integer\": 5, \"floater\": 3.14, \"something_else\": 235},\n",
    "        {\"string\": \"morning\", \"integer\": 5, \"floater\": 3.14, \"something_else\": 12},\n",
    "        {\"string\": \"number\", \"integer\": 3, \"floater\": 3.14, \"something_else\": 123},\n",
    "    ]\n",
    "}"
   ]
  },
  {
   "cell_type": "code",
   "execution_count": null,
   "id": "66ec2b1e-f9a4-4ef5-97ce-59513a7af9f5",
   "metadata": {},
   "outputs": [],
   "source": []
  }
 ],
 "metadata": {
  "kernelspec": {
   "display_name": "Python 3 (ipykernel)",
   "language": "python",
   "name": "python3"
  },
  "language_info": {
   "codemirror_mode": {
    "name": "ipython",
    "version": 3
   },
   "file_extension": ".py",
   "mimetype": "text/x-python",
   "name": "python",
   "nbconvert_exporter": "python",
   "pygments_lexer": "ipython3",
   "version": "3.9.15"
  }
 },
 "nbformat": 4,
 "nbformat_minor": 5
}
